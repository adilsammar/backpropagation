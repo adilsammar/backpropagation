{
  "nbformat": 4,
  "nbformat_minor": 0,
  "metadata": {
    "colab": {
      "name": "Backpropagation_Step_by_Step_Ammar_Adil_Batch_2 ",
      "version": "0.3.2",
      "provenance": [],
      "collapsed_sections": []
    },
    "kernelspec": {
      "name": "python3",
      "display_name": "Python 3"
    }
  },
  "cells": [
    {
      "cell_type": "markdown",
      "metadata": {
        "id": "HyHLtNIUQt_v",
        "colab_type": "text"
      },
      "source": [
        "# Backpropagation Step by Step"
      ]
    },
    {
      "cell_type": "markdown",
      "metadata": {
        "id": "AtrVd5D8RfWe",
        "colab_type": "text"
      },
      "source": [
        "> ![](http://hmkcode.github.io/images/ai/backpropagation.png)"
      ]
    },
    {
      "cell_type": "markdown",
      "metadata": {
        "id": "3QJBjeRZQ9NT",
        "colab_type": "text"
      },
      "source": [
        "If you are building your own neural network, you will definitely need to understand how to train it. Backpropagation is a commonly used technique for training neural network. There are many resources explaining the technique, but this post will explain backpropagation with concrete example in a very detailed colorful steps."
      ]
    },
    {
      "cell_type": "markdown",
      "metadata": {
        "id": "Sog2owSmRr3h",
        "colab_type": "text"
      },
      "source": [
        "## Overview\n",
        "\n",
        "---\n",
        "\n",
        "\n",
        "In this post, we will build a neural network with three layers\n",
        "\n",
        "\n",
        "* Input layer with two inputs neurons\n",
        "* One hidden layer with two neurons\n",
        "* Output layer with a single neuron\n",
        "\n",
        "\n",
        "\n",
        "> ![Backpropagation](https://github.com/yoyoasa/backpropagation/blob/master/bp1.png?raw=true)"
      ]
    },
    {
      "cell_type": "markdown",
      "metadata": {
        "id": "voz8vzYvSW5Z",
        "colab_type": "text"
      },
      "source": [
        "## Weights, weights, weights\n",
        "\n",
        "---\n",
        "\n",
        "Neural network training is about finding weights that minimize prediction error. We usually start our training with a set of randomly generated weights.Then, backpropagation is used to update the weights in an attempt to correctly map arbitrary inputs to outputs.\n",
        "\n",
        "Our initial weights will be as following: \n",
        "\n",
        "\n",
        "**`w1 = 0.15`, \n",
        "`w2 = 0.20`, \n",
        "`w3 = 0.10`, \n",
        "`w4 = 0.18`, \n",
        "`w5 = 0.05`, \n",
        "`w6 = 0.26`**\n",
        "\n",
        "\n",
        "\n",
        "> ![Backpropagation](https://github.com/yoyoasa/backpropagation/blob/master/bp2.png?raw=true)"
      ]
    },
    {
      "cell_type": "markdown",
      "metadata": {
        "id": "qsMt4wselaho",
        "colab_type": "text"
      },
      "source": [
        "## Dataset\n",
        "\n",
        "---\n",
        "\n",
        "#### Our dataset has one sample with two inputs and one output.\n",
        "\n",
        "> ![dataset](https://github.com/yoyoasa/backpropagation/blob/master/bp3.png?raw=true)\n",
        "\n",
        "\n",
        "\n",
        "#### Our single sample is as following `inputs=[5, 4]` and `output=[2]`.\n",
        "\n",
        "\n",
        "> ![dataset](https://github.com/yoyoasa/backpropagation/blob/master/bp4.png?raw=true)"
      ]
    },
    {
      "cell_type": "markdown",
      "metadata": {
        "id": "AppoF2p4xyUz",
        "colab_type": "text"
      },
      "source": [
        "## Forward \n",
        "\n",
        "---\n",
        "\n",
        "We will use given weights and inputs to predict the output. Inputs are multiplied by weights; the results are then passed forward to next layer.\n",
        "\n",
        "\n",
        "> ![backpropagation](https://github.com/yoyoasa/backpropagation/blob/master/bp5.png?raw=true)\n",
        "\n",
        "\n",
        ">$\\begin{pmatrix}\n",
        "5 & 4\n",
        "\\end{pmatrix} \n",
        ". \n",
        "\\begin{pmatrix}\n",
        "0.15 & 0.1\\\\\n",
        "0.2 & 0.18 \\\\\n",
        "\\end{pmatrix}\n",
        "=\\begin{pmatrix}\n",
        "1.55 & 1.22\n",
        "\\end{pmatrix} \n",
        ".\n",
        "\\begin{pmatrix}\n",
        "0.05  \\\\\n",
        "0.26\n",
        "\\end{pmatrix} \n",
        "= \n",
        "\\begin{pmatrix}\n",
        "0.394\n",
        "\\end{pmatrix} \n",
        "$\n",
        "\n",
        ">  $ 5 * 0.15 + 4 * 0.2 = 1.55 $\n",
        "\n",
        "> $ 5 * 0.1 + 4 * 0.18 = 1.22 $\n",
        "\n",
        "> $ 1.55 * 0.05 + 1.22 * 0.26  = 0.394 $"
      ]
    },
    {
      "cell_type": "markdown",
      "metadata": {
        "id": "1inwhBvNtwqD",
        "colab_type": "text"
      },
      "source": [
        "## Calculating Error\n",
        "\n",
        "---\n",
        "\n",
        "Now, it’s time to find out how our network performed by calculating the difference between the actual output and predicted one. It’s clear that our network output, or **prediction**, is not even close to **actual output**. We can calculate the difference or the error as following.\n",
        "\n",
        "\n",
        "> ![backpropogation](https://github.com/yoyoasa/backpropagation/blob/master/bp6.png?raw=true)\n",
        "\n",
        "> $Error  = \\frac{1}{2} (0.394 - 2)^2 = 1.289 $\n"
      ]
    },
    {
      "cell_type": "markdown",
      "metadata": {
        "id": "KfDj4v763Nh_",
        "colab_type": "text"
      },
      "source": [
        "## Reducing Error\n",
        "\n",
        "---\n",
        "\n",
        "Our main goal of the training is to reduce the **error** or the difference between **prediction** and **actual output**. Since **actual output** is constant, “not changing”, the only way to reduce the error is to change **prediction** value. The question now is, how to change **prediction** value?\n",
        "\n",
        "\n",
        "By decomposing **prediction** into its basic elements we can find that **weights** are the variable elements affecting **prediction** value. In other words, in order to change **prediction** value, we need to change **weights** values.\n",
        "\n",
        "\n",
        ">![backpropagation](https://github.com/yoyoasa/backpropagation/blob/master/bp7.png?raw=true)\n",
        "\n",
        "\n",
        "<blockquote style=\"color: #868e96;\">The question now is **how to change\\update the weights value so that the error is** reduced?</blockquote>\n",
        "\n",
        "<blockquote style=\"color: #868e96;\">The answer is **Backpropagation**!</blockquote>"
      ]
    },
    {
      "cell_type": "markdown",
      "metadata": {
        "id": "xfZhLKPc-1r4",
        "colab_type": "text"
      },
      "source": [
        "## Backpropagation\n",
        "\n",
        "---\n",
        "\n",
        "**Backpropagation**, short for “backward propagation of errors”, is a mechanism used to update the **weights** using [gradient descent](https://en.wikipedia.org/wiki/Gradient_descent). It calculates the gradient of the error function with respect to the neural network’s weights. The calculation proceeds backwards through the network.\n",
        "\n",
        "**Gradient descent** is an iterative optimization algorithm for finding the minimum of a function; in our case we want to minimize th error function. To find a local minimum of a function using gradient descent, one takes steps proportional to the negative of the gradient of the function at the current point.\n",
        "\n",
        ">![backpropagation](https://github.com/yoyoasa/backpropagation/blob/master/bp8.png?raw=true)\n",
        "\n",
        "\n",
        "For example, to update `w6`, we take the current `w6` and subtract the partial derivative of **error** function with respect to `w6`. Optionally, we multiply the derivative of the **error** function by a selected number to make sure that the new updated **weight** is minimizing the error function; this number is called **learning rate**.\n",
        "\n",
        "\n",
        ">![backpropogation](https://github.com/yoyoasa/backpropagation/blob/master/bp9.png?raw=true)\n",
        "\n",
        "However, when moving backward to update `w1`, `w2`, `w3` and `w4` existing between input and hidden layer, the partial derivative for the error function with respect to `w1`, for example, will be as following.\n",
        "\n",
        "> ![backpropogation](https://github.com/yoyoasa/backpropagation/blob/master/bp10.png?raw=true)\n",
        "\n",
        "We can find the update formula for the remaining weights `w2`, `w3` and `w4` in the same way.\n",
        "\n",
        "In summary, the update formulas for all weights will be as following:\n",
        "\n",
        "> ![backpropogation](https://github.com/yoyoasa/backpropagation/blob/master/bp11.png?raw=true)\n",
        "\n",
        "We can rewrite the update formulas in matrices as following\n",
        "\n",
        "> ![backpropogation](https://github.com/yoyoasa/backpropagation/blob/master/bp12.png?raw=true)"
      ]
    },
    {
      "cell_type": "markdown",
      "metadata": {
        "id": "Q1RX-XdiTO1h",
        "colab_type": "text"
      },
      "source": [
        "## Backward Pass\n",
        "\n",
        "---\n",
        "\n",
        "Using derived formulas we can find the new **weights**\n",
        "\n",
        "**Learning rate:** is a hyperparameter which means that we need to manually guess its value.\n",
        "\n",
        "> ![backpropagation](https://github.com/yoyoasa/backpropagation/blob/master/bp13.png?raw=true)\n",
        "\n",
        "Now, using the new **weights** we will repeat the forward passed\n",
        "\n",
        "> ![backpropagation](https://github.com/yoyoasa/backpropagation/blob/master/bp14.png?raw=true)\n",
        "\n",
        ">$\\begin{pmatrix}\n",
        "5 & 4\n",
        "\\end{pmatrix} \n",
        ". \n",
        "\\begin{pmatrix}\n",
        "0.154 & 0.121\\\\\n",
        "0.203 & 0.197 \\\\\n",
        "\\end{pmatrix}\n",
        "=\\begin{pmatrix}\n",
        "1.582 & 1.393\n",
        "\\end{pmatrix} \n",
        ".\n",
        "\\begin{pmatrix}\n",
        "0.074  \\\\\n",
        "0.279\n",
        "\\end{pmatrix} \n",
        "= \n",
        "\\begin{pmatrix}\n",
        "0.506\n",
        "\\end{pmatrix} \n",
        "$\n",
        "\n",
        ">  $ 5 * 0.154 + 4 * 0.203 = 1.582 $\n",
        "\n",
        "> $ 5 * 0.121 + 4 * 0.197 = 1.393 $\n",
        "\n",
        "> $ 1.582 * 0.074 + 1.393 * 0.279  = 0.506 $"
      ]
    },
    {
      "cell_type": "code",
      "metadata": {
        "id": "j9pQ9xsTk-yG",
        "colab_type": "code",
        "outputId": "42fcbe48-439b-40db-a3f9-08b73ad23371",
        "colab": {
          "base_uri": "https://localhost:8080/",
          "height": 493
        }
      },
      "source": [
        "import numpy as np\n",
        "\n",
        "class Neural_Network(object):\n",
        "  def __init__(self, WL1=None, WL2=None):\n",
        "    #parameters\n",
        "    self.inputSize = 2\n",
        "    self.outputSize = 1\n",
        "    self.hiddenSize = 2\n",
        "    \n",
        "    #weights\n",
        "    self.WL1 = np.array(WL1) if WL1 else np.array([[0.15, 0.1], [0.2, 0.18]]) # (2x2) weight matrix from input to hidden layer\n",
        "    self.WL2 = np.array(WL2) if WL2 else np.array([0.05, 0.26]) # (2x1) weight matrix from hidden to output layer\n",
        "    \n",
        "  def forward(self, X):\n",
        "    #forward propagation through our network\n",
        "    self.HL = np.dot(X, self.WL1) # dot product of X (input) and first set of 2x2 weights\n",
        "    out = np.dot(self.HL, self.WL2) # dot product of hidden layer (HL) and second set of 2x1 weights\n",
        "    return out\n",
        "  \n",
        "  def backward(self, X, y, out, a):\n",
        "    # backward propgate through the network\n",
        "    self.delta = out - y # error in output\n",
        "    self.a = a # learning rate\n",
        "\n",
        "    _WL2 = self.a * self.delta * self.HL.T\n",
        "    _WL1 = self.a * self.delta * X.reshape(1,2).T.dot(self.WL2.reshape(1, 2))\n",
        "    print(_WL1)\n",
        "    \n",
        "    self.WL2 = self.WL2 - _WL2 # adjusting second set (hidden --> output) weights\n",
        "    self.WL1 = self.WL1 - _WL1 # adjusting first set (input --> hidden) weights\n",
        "\n",
        "#defining our output \n",
        "# X = input, y = output\n",
        "X = np.array([5, 4])\n",
        "y = 2\n",
        "a = 0.01\n",
        "\n",
        "NN = Neural_Network([[0.15, 0.1], [0.2, 0.18]], [0.05, 0.26])\n",
        "\n",
        "print(\"Input:\", str(X))\n",
        "print(\"Actual Output:\", str(y))\n",
        "print(\"Learning Rate:\", str(a))\n",
        "\n",
        "predicted = NN.forward(X)\n",
        "print(\"Predicted Output:\", str(predicted))\n",
        "print(\"Loss:\", str(np.square(y - predicted)/2)) # mean sum squared loss\n",
        "\n",
        "NN.backward(X, y, predicted, a)\n",
        "print(\"Updated WL1:\\n\", NN.WL1)\n",
        "print(\"Updated WL2:\\n\", NN.WL2)\n",
        "\n",
        "predicted = NN.forward(X)\n",
        "print(\"Predicted Output:\", str(predicted))\n",
        "print(\"Loss:\", str(np.square(y - predicted)/2)) # mean sum squared loss\n",
        "\n",
        "print(\"\\n\")\n",
        "# X = input, y = output\n",
        "X = np.array([2, 3])\n",
        "y = 1\n",
        "a = 0.05\n",
        "\n",
        "NN = Neural_Network([[0.11, 0.12], [0.21, 0.08]], [0.14, 0.15])\n",
        "\n",
        "print(\"Input:\", str(X))\n",
        "print(\"Actual Output:\", str(y))\n",
        "print(\"Learning Rate:\", str(a))\n",
        "\n",
        "predicted = NN.forward(X)\n",
        "print(\"Predicted Output:\", str(predicted))\n",
        "print(\"Loss:\", str(np.square(y - predicted)/2)) # mean sum squared loss\n",
        "\n",
        "NN.backward(X, y, predicted, a)\n",
        "print(\"Updated WL1:\\n\", NN.WL1)\n",
        "print(\"Updated WL2:\\n\", NN.WL2)"
      ],
      "execution_count": 0,
      "outputs": [
        {
          "output_type": "stream",
          "text": [
            "Input: [5 4]\n",
            "Actual Output: 2\n",
            "Learning Rate: 0.01\n",
            "Predicted Output: 0.3947\n",
            "Loss: 1.288494045\n",
            "[[-0.00401325 -0.0208689 ]\n",
            " [-0.0032106  -0.01669512]]\n",
            "Updated WL1:\n",
            " [[0.15401325 0.1208689 ]\n",
            " [0.2032106  0.19669512]]\n",
            "Updated WL2:\n",
            " [0.07488215 0.27958466]\n",
            "Predicted Output: 0.5074688075164043\n",
            "Loss: 1.1138246802682523\n",
            "\n",
            "\n",
            "Input: [2 3]\n",
            "Actual Output: 1\n",
            "Learning Rate: 0.05\n",
            "Predicted Output: 0.191\n",
            "Loss: 0.32724049999999993\n",
            "[[-0.011326  -0.012135 ]\n",
            " [-0.016989  -0.0182025]]\n",
            "Updated WL1:\n",
            " [[0.121326  0.132135 ]\n",
            " [0.226989  0.0982025]]\n",
            "Updated WL2:\n",
            " [0.1743825 0.169416 ]\n"
          ],
          "name": "stdout"
        }
      ]
    },
    {
      "cell_type": "code",
      "metadata": {
        "id": "eTRJwRNYmb8n",
        "colab_type": "code",
        "colab": {}
      },
      "source": [
        ""
      ],
      "execution_count": 0,
      "outputs": []
    }
  ]
}